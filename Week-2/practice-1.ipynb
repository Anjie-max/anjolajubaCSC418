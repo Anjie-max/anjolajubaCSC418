{
 "cells": [
  {
   "cell_type": "code",
   "execution_count": 3,
   "id": "b46c5cf2",
   "metadata": {},
   "outputs": [
    {
     "ename": "ValueError",
     "evalue": "not enough values to unpack (expected 3, got 0)",
     "output_type": "error",
     "traceback": [
      "\u001b[1;31m---------------------------------------------------------------------------\u001b[0m",
      "\u001b[1;31mValueError\u001b[0m                                Traceback (most recent call last)",
      "Cell \u001b[1;32mIn[3], line 7\u001b[0m\n\u001b[0;32m      4\u001b[0m image\u001b[38;5;241m=\u001b[39m cv2\u001b[38;5;241m.\u001b[39mimread(\u001b[38;5;124m'\u001b[39m\u001b[38;5;124mimg/color-space.jpg\u001b[39m\u001b[38;5;124m'\u001b[39m)\n\u001b[0;32m      6\u001b[0m \u001b[38;5;66;03m# The split method separates color spaces\u001b[39;00m\n\u001b[1;32m----> 7\u001b[0m B, G, R \u001b[38;5;241m=\u001b[39m cv2\u001b[38;5;241m.\u001b[39msplit(image)\n\u001b[0;32m      9\u001b[0m \u001b[38;5;66;03m#Corresponding channels areseparated\u001b[39;00m\n\u001b[0;32m     10\u001b[0m cv2\u001b[38;5;241m.\u001b[39mimshow(\u001b[38;5;124m\"\u001b[39m\u001b[38;5;124moriginal\u001b[39m\u001b[38;5;124m\"\u001b[39m, image)\n",
      "\u001b[1;31mValueError\u001b[0m: not enough values to unpack (expected 3, got 0)"
     ]
    }
   ],
   "source": [
    "#Visiualizing color spaces\n",
    "import cv2\n",
    "\n",
    "image= cv2.imread('img/color-space.jpg')\n",
    "\n",
    "# The split method separates color spaces\n",
    "B, G, R = cv2.split(image)\n",
    "\n",
    "#Corresponding channels areseparated\n",
    "cv2.imshow(\"original\", image)\n",
    "cv2.waitKey(0)\n",
    "\n",
    "cv2.imshow(\"blue\", B)\n",
    "cv2.waitKey(0)\n",
    "\n",
    "cv2.imshow(\"Green\", G)\n",
    "cv2.waitKey(0)\n",
    "\n",
    "cv2.imshow(\"Red\", R)\n",
    "cv2.waitKey(0)\n",
    "\n",
    "cv2.destroyAllWindows()"
   ]
  },
  {
   "cell_type": "code",
   "execution_count": null,
   "id": "9b6a2870",
   "metadata": {},
   "outputs": [],
   "source": []
  },
  {
   "cell_type": "code",
   "execution_count": null,
   "id": "cde62c62",
   "metadata": {},
   "outputs": [],
   "source": []
  },
  {
   "cell_type": "code",
   "execution_count": 4,
   "id": "7a1d7447",
   "metadata": {},
   "outputs": [
    {
     "ename": "ValueError",
     "evalue": "not enough values to unpack (expected 3, got 0)",
     "output_type": "error",
     "traceback": [
      "\u001b[1;31m---------------------------------------------------------------------------\u001b[0m",
      "\u001b[1;31mValueError\u001b[0m                                Traceback (most recent call last)",
      "Cell \u001b[1;32mIn[4], line 7\u001b[0m\n\u001b[0;32m      4\u001b[0m image\u001b[38;5;241m=\u001b[39m cv2\u001b[38;5;241m.\u001b[39mimread(\u001b[38;5;124m'\u001b[39m\u001b[38;5;124mimg/color-space.jpg\u001b[39m\u001b[38;5;124m'\u001b[39m)\n\u001b[0;32m      6\u001b[0m \u001b[38;5;66;03m# The split method separates color spaces\u001b[39;00m\n\u001b[1;32m----> 7\u001b[0m B, G, R \u001b[38;5;241m=\u001b[39m cv2\u001b[38;5;241m.\u001b[39msplit(image)\n\u001b[0;32m      9\u001b[0m \u001b[38;5;66;03m#Corresponding channels areseparated\u001b[39;00m\n\u001b[0;32m     10\u001b[0m cv2\u001b[38;5;241m.\u001b[39mimshow(\u001b[38;5;124m\"\u001b[39m\u001b[38;5;124moriginal\u001b[39m\u001b[38;5;124m\"\u001b[39m, image)\n",
      "\u001b[1;31mValueError\u001b[0m: not enough values to unpack (expected 3, got 0)"
     ]
    }
   ],
   "source": [
    "#Visiualizing color spaces\n",
    "import cv2\n",
    "\n",
    "image= cv2.imread('img/color-space.jpg')\n",
    "\n",
    "# The split method separates color spaces\n",
    "B, G, R = cv2.split(image)\n",
    "\n",
    "#Corresponding channels areseparated\n",
    "cv2.imshow(\"original\", image)\n",
    "cv2.waitKey(0)\n",
    "\n",
    "cv2.imshow(\"blue\", B)\n",
    "cv2.waitKey(0)\n",
    "\n",
    "cv2.imshow(\"Green\", G)\n",
    "cv2.waitKey(0)\n",
    "\n",
    "cv2.imshow(\"Red\", R)\n",
    "cv2.waitKey(0)\n",
    "\n",
    "cv2.destroyAllWindows()"
   ]
  },
  {
   "cell_type": "code",
   "execution_count": 1,
   "id": "e27f9f48",
   "metadata": {},
   "outputs": [
    {
     "ename": "ValueError",
     "evalue": "not enough values to unpack (expected 3, got 0)",
     "output_type": "error",
     "traceback": [
      "\u001b[1;31m---------------------------------------------------------------------------\u001b[0m",
      "\u001b[1;31mValueError\u001b[0m                                Traceback (most recent call last)",
      "Cell \u001b[1;32mIn[1], line 7\u001b[0m\n\u001b[0;32m      4\u001b[0m image\u001b[38;5;241m=\u001b[39m cv2\u001b[38;5;241m.\u001b[39mimread(\u001b[38;5;124m'\u001b[39m\u001b[38;5;124mimg/color-space.jpg\u001b[39m\u001b[38;5;124m'\u001b[39m)\n\u001b[0;32m      6\u001b[0m \u001b[38;5;66;03m# The split method separates color spaces\u001b[39;00m\n\u001b[1;32m----> 7\u001b[0m B, G, R \u001b[38;5;241m=\u001b[39m cv2\u001b[38;5;241m.\u001b[39msplit(image)\n\u001b[0;32m      9\u001b[0m \u001b[38;5;66;03m#Corresponding channels areseparated\u001b[39;00m\n\u001b[0;32m     10\u001b[0m cv2\u001b[38;5;241m.\u001b[39mimshow(\u001b[38;5;124m\"\u001b[39m\u001b[38;5;124moriginal\u001b[39m\u001b[38;5;124m\"\u001b[39m, image)\n",
      "\u001b[1;31mValueError\u001b[0m: not enough values to unpack (expected 3, got 0)"
     ]
    }
   ],
   "source": [
    "#Visiualizing color spaces\n",
    "import cv2\n",
    "\n",
    "image= cv2.imread('img/color-space.jpg')\n",
    "\n",
    "# The split method separates color spaces\n",
    "B, G, R = cv2.split(image)\n",
    "\n",
    "#Corresponding channels areseparated\n",
    "cv2.imshow(\"original\", image)\n",
    "cv2.waitKey(0)\n",
    "\n",
    "cv2.imshow(\"blue\", B)\n",
    "cv2.waitKey(0)\n",
    "\n",
    "cv2.imshow(\"Green\", G)\n",
    "cv2.waitKey(0)\n",
    "\n",
    "cv2.imshow(\"Red\", R)\n",
    "cv2.waitKey(0)\n",
    "\n",
    "cv2.destroyAllWindows()"
   ]
  },
  {
   "cell_type": "code",
   "execution_count": null,
   "id": "4ee8fe40",
   "metadata": {},
   "outputs": [],
   "source": []
  },
  {
   "cell_type": "code",
   "execution_count": null,
   "id": "c593b873",
   "metadata": {},
   "outputs": [],
   "source": []
  }
 ],
 "metadata": {
  "kernelspec": {
   "display_name": "Python 3 (ipykernel)",
   "language": "python",
   "name": "python3"
  },
  "language_info": {
   "codemirror_mode": {
    "name": "ipython",
    "version": 3
   },
   "file_extension": ".py",
   "mimetype": "text/x-python",
   "name": "python",
   "nbconvert_exporter": "python",
   "pygments_lexer": "ipython3",
   "version": "3.11.5"
  }
 },
 "nbformat": 4,
 "nbformat_minor": 5
}
