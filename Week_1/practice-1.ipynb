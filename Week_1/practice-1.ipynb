{
 "cells": [
  {
   "cell_type": "code",
   "execution_count": 1,
   "id": "12125581",
   "metadata": {
    "scrolled": true
   },
   "outputs": [
    {
     "ename": "error",
     "evalue": "OpenCV(4.6.0) C:\\b\\abs_f8n1j3l9l0\\croot\\opencv-suite_1691622637237\\work\\modules\\highgui\\src\\window.cpp:1267: error: (-2:Unspecified error) The function is not implemented. Rebuild the library with Windows, GTK+ 2.x or Cocoa support. If you are on Ubuntu or Debian, install libgtk2.0-dev and pkg-config, then re-run cmake or configure script in function 'cvShowImage'\n",
     "output_type": "error",
     "traceback": [
      "\u001b[1;31m---------------------------------------------------------------------------\u001b[0m",
      "\u001b[1;31merror\u001b[0m                                     Traceback (most recent call last)",
      "Cell \u001b[1;32mIn[1], line 14\u001b[0m\n\u001b[0;32m     11\u001b[0m window_name \u001b[38;5;241m=\u001b[39m\u001b[38;5;124m'\u001b[39m\u001b[38;5;124mDisplay Image\u001b[39m\u001b[38;5;124m'\u001b[39m\n\u001b[0;32m     13\u001b[0m \u001b[38;5;66;03m#Display image\u001b[39;00m\n\u001b[1;32m---> 14\u001b[0m cv2\u001b[38;5;241m.\u001b[39mimshow(window_name, img)\n\u001b[0;32m     16\u001b[0m \u001b[38;5;66;03m#Hold the window\u001b[39;00m\n\u001b[0;32m     17\u001b[0m cv2\u001b[38;5;241m.\u001b[39mwaitKey(\u001b[38;5;241m0\u001b[39m)\n",
      "\u001b[1;31merror\u001b[0m: OpenCV(4.6.0) C:\\b\\abs_f8n1j3l9l0\\croot\\opencv-suite_1691622637237\\work\\modules\\highgui\\src\\window.cpp:1267: error: (-2:Unspecified error) The function is not implemented. Rebuild the library with Windows, GTK+ 2.x or Cocoa support. If you are on Ubuntu or Debian, install libgtk2.0-dev and pkg-config, then re-run cmake or configure script in function 'cvShowImage'\n"
     ]
    }
   ],
   "source": [
    "#Importing the opencv library\n",
    "import cv2\n",
    "\n",
    "#specifying path\n",
    "path = 'sst-foyer.jpg'\n",
    "\n",
    "#reading the image using imread() function from library\n",
    "img = cv2.imread(path)\n",
    "\n",
    "#window name in which image is displayed\n",
    "window_name ='Display Image'\n",
    "\n",
    "#Display image\n",
    "cv2.imshow(window_name, img)\n",
    "\n",
    "#Hold the window\n",
    "cv2.waitKey(0)\n",
    "\n",
    "#remove/delete created GUI window from screen and memory\n",
    "cv2.destroyAllWindows()\n"
   ]
  },
  {
   "cell_type": "code",
   "execution_count": null,
   "id": "09953262",
   "metadata": {},
   "outputs": [],
   "source": []
  },
  {
   "cell_type": "code",
   "execution_count": null,
   "id": "78678061",
   "metadata": {},
   "outputs": [],
   "source": []
  }
 ],
 "metadata": {
  "kernelspec": {
   "display_name": "Python 3 (ipykernel)",
   "language": "python",
   "name": "python3"
  },
  "language_info": {
   "codemirror_mode": {
    "name": "ipython",
    "version": 3
   },
   "file_extension": ".py",
   "mimetype": "text/x-python",
   "name": "python",
   "nbconvert_exporter": "python",
   "pygments_lexer": "ipython3",
   "version": "3.11.5"
  }
 },
 "nbformat": 4,
 "nbformat_minor": 5
}
