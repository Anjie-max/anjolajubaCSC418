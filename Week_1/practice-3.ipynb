{
 "cells": [
  {
   "cell_type": "code",
   "execution_count": null,
   "id": "0f209b9d",
   "metadata": {},
   "outputs": [],
   "source": [
    "#Python program to explain cv2.imwrite() method\n",
    "#importing opencv\n",
    "\n",
    "import cv2\n",
    "\n",
    "#importing os module\n",
    "import os\n",
    "\n",
    "#image path\n",
    "image_path=r'C:\\Users\\user\\anjolajubaCSC418\\img\\sst-foyer.jpg'\n",
    "\n",
    "#Image directory\n",
    "directory=r'C:\\Users\\user\\anjolajubaCSC418\\img'\n",
    "\n",
    "#using cv2.imread() method to read the image\n",
    "img = cv2.imread(image_path,0)\n",
    "\n",
    "#Change the current directory to specified directory\n",
    "os.chdir(directory)"
   ]
  }
 ],
 "metadata": {
  "kernelspec": {
   "display_name": "Python 3 (ipykernel)",
   "language": "python",
   "name": "python3"
  },
  "language_info": {
   "codemirror_mode": {
    "name": "ipython",
    "version": 3
   },
   "file_extension": ".py",
   "mimetype": "text/x-python",
   "name": "python",
   "nbconvert_exporter": "python",
   "pygments_lexer": "ipython3",
   "version": "3.11.5"
  }
 },
 "nbformat": 4,
 "nbformat_minor": 5
}
